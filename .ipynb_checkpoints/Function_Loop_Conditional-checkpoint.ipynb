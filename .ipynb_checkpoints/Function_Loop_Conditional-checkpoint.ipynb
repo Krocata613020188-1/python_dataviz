{
 "cells": [
  {
   "cell_type": "markdown",
   "metadata": {},
   "source": [
    "# Function\n",
    "### print ชื่อ XXX นามสุกล YYY รหัส ZZZ\n",
    "### print เกรด วิชา Stat 1 >> AAA"
   ]
  },
  {
   "cell_type": "code",
   "execution_count": 1,
   "metadata": {},
   "outputs": [
    {
     "name": "stdout",
     "output_type": "stream",
     "text": [
      "ชื่อ กรวิชญ์ นามสกุล ทะรังศรี รหัส 000\n"
     ]
    }
   ],
   "source": [
    "a = 'ชื่อ กรวิชญ์ นามสกุล ทะรังศรี รหัส 000'\n",
    "print(a)"
   ]
  },
  {
   "cell_type": "code",
   "execution_count": 4,
   "metadata": {},
   "outputs": [
    {
     "name": "stdout",
     "output_type": "stream",
     "text": [
      "ชื่อ กรวิชญ์ นามสกุล ทะรังศรี รหัส 009\n"
     ]
    }
   ],
   "source": [
    "name = 'กรวิชญ์'\n",
    "surname = 'ทะรังศรี'\n",
    "ID = '009'\n",
    "v = f'ชื่อ {name} นามสกุล {surname} รหัส {ID}'\n",
    "print(v)\n"
   ]
  },
  {
   "cell_type": "markdown",
   "metadata": {},
   "source": [
    "# function template\n",
    "```pyrhon\n",
    "def function_name(input):\n",
    "    do_something\n",
    "    return output\n",
    "```    "
   ]
  },
  {
   "cell_type": "code",
   "execution_count": 5,
   "metadata": {},
   "outputs": [],
   "source": [
    "def print_line1(name1,surname1,ID1):\n",
    "    st = f'ชื่อ {name1} นามสกุล {surname1} รหัส {ID1}'\n",
    "    return st"
   ]
  },
  {
   "cell_type": "code",
   "execution_count": 6,
   "metadata": {},
   "outputs": [
    {
     "name": "stdout",
     "output_type": "stream",
     "text": [
      "ชื่อ กรวิชญ์ นามสกุล ทะรังศรี รหัส 613020188-1\n"
     ]
    }
   ],
   "source": [
    "print(print_line1('กรวิชญ์','ทะรังศรี','613020188-1'))"
   ]
  },
  {
   "cell_type": "code",
   "execution_count": 11,
   "metadata": {},
   "outputs": [],
   "source": [
    "def print_2lines(name1,surname1,ID1,grade):\n",
    "    st = f'ชื่อ {name1} นามสกุล {surname1} รหัส {ID1}'\n",
    "    print(st)\n",
    "    st2 = f'เกรดวิชา stat1 >>> {grade}'\n",
    "    print(st2)"
   ]
  },
  {
   "cell_type": "code",
   "execution_count": 16,
   "metadata": {},
   "outputs": [
    {
     "name": "stdout",
     "output_type": "stream",
     "text": [
      "ชื่อ กรวิชญ์ นามสกุล ทะรังศรี รหัส 613020188-1\n",
      "เกรดวิชา stat1 >>> A\n",
      "ชื่อ โสภิตา นามสกุล แสงขาว รหัส 603021889-5\n",
      "เกรดวิชา stat1 >>> B\n",
      "ชื่อ ธนัชชา นามสกุล ขุนทอง รหัส 603020472-3\n",
      "เกรดวิชา stat1 >>> B+\n",
      "ชื่อ ภัทธวรรธนี นามสกุล ใจเพียง รหัส 603021866-7\n",
      "เกรดวิชา stat1 >>> B+\n"
     ]
    }
   ],
   "source": [
    "print_2lines('กรวิชญ์','ทะรังศรี','613020188-1','A')\n",
    "print_2lines('โสภิตา','แสงขาว','603021889-5','B')\n",
    "print_2lines('ธนัชชา','ขุนทอง','603020472-3','B+')\n",
    "print_2lines('ภัทธวรรธนี','ใจเพียง','603021866-7','B+')"
   ]
  },
  {
   "cell_type": "markdown",
   "metadata": {},
   "source": [
    "### fuction without input"
   ]
  },
  {
   "cell_type": "code",
   "execution_count": 17,
   "metadata": {},
   "outputs": [],
   "source": [
    "def two_x_three():\n",
    "    x = 2*3\n",
    "    return x"
   ]
  },
  {
   "cell_type": "code",
   "execution_count": 18,
   "metadata": {},
   "outputs": [
    {
     "data": {
      "text/plain": [
       "6"
      ]
     },
     "execution_count": 18,
     "metadata": {},
     "output_type": "execute_result"
    }
   ],
   "source": [
    "two_x_three()"
   ]
  },
  {
   "cell_type": "markdown",
   "metadata": {},
   "source": [
    "### function  with deflault argument"
   ]
  },
  {
   "cell_type": "code",
   "execution_count": 23,
   "metadata": {},
   "outputs": [],
   "source": [
    "def print_2lines_deflault(name1,surname1,ID1,grade='A'):\n",
    "    st = f'ชื่อ {name1} นามสกุล {surname1} รหัส {ID1}'\n",
    "    print(st)\n",
    "    st2 = f'เกรดวิชา stat1 >>> {grade}'\n",
    "    print(st2)"
   ]
  },
  {
   "cell_type": "code",
   "execution_count": 24,
   "metadata": {},
   "outputs": [
    {
     "name": "stdout",
     "output_type": "stream",
     "text": [
      "ชื่อ กรวิชญ์ นามสกุล ทะรังศรี รหัส 613020188-1\n",
      "เกรดวิชา stat1 >>> A\n"
     ]
    }
   ],
   "source": [
    "print_2lines_deflault('กรวิชญ์','ทะรังศรี','613020188-1')"
   ]
  },
  {
   "cell_type": "code",
   "execution_count": 26,
   "metadata": {},
   "outputs": [
    {
     "name": "stdout",
     "output_type": "stream",
     "text": [
      "ชื่อ กรวิชญ์ นามสกุล ทะรังศรี รหัส 613020188-1\n",
      "เกรดวิชา stat1 >>> A\n"
     ]
    }
   ],
   "source": [
    "print_2lines_deflault(surname1 = 'ทะรังศรี',name1 = 'กรวิชญ์',ID1 = '613020188-1')"
   ]
  },
  {
   "cell_type": "markdown",
   "metadata": {},
   "source": [
    "# Loop (วนซ้ำ)"
   ]
  },
  {
   "cell_type": "markdown",
   "metadata": {},
   "source": [
    "```python\n",
    "for each_member in listA:\n",
    "    do something\n",
    "```"
   ]
  },
  {
   "cell_type": "code",
   "execution_count": 27,
   "metadata": {},
   "outputs": [
    {
     "name": "stdout",
     "output_type": "stream",
     "text": [
      "1\n",
      "2\n",
      "3\n"
     ]
    }
   ],
   "source": [
    "for i in [1,2,3]:\n",
    "    print(i)"
   ]
  },
  {
   "cell_type": "code",
   "execution_count": 31,
   "metadata": {},
   "outputs": [
    {
     "name": "stdout",
     "output_type": "stream",
     "text": [
      "K -> /\n",
      " \n",
      "o -> /\n",
      " \n",
      "r -> /\n",
      " \n",
      "a -> /\n",
      " \n",
      "v -> /\n",
      " \n",
      "i -> /\n",
      " \n",
      "t -> /\n",
      " \n"
     ]
    }
   ],
   "source": [
    "for i in 'Koravit':\n",
    "    print(f'{i} -> /')\n",
    "    print(' ')"
   ]
  },
  {
   "cell_type": "markdown",
   "metadata": {},
   "source": [
    "## 1 สร้าง list ชื่อเพื่อนที่อยู่ใน แถวยาวเดียวกัน\n",
    "## 1.5 สร้าง function print ประโยคว่า XXXเรา YYYความรู้สึก ZZZเพือน ทุกคนในแถว \n",
    "## 2 วนลูป เรียก function โดยเปลี่ยนชื่อเพื่อนไปเรื่อยๆ"
   ]
  },
  {
   "cell_type": "code",
   "execution_count": 25,
   "metadata": {},
   "outputs": [],
   "source": [
    "friend_list = {'พี่เอท', 'พี่แตงโม', 'พี่บูม', 'พี่เจมส์', 'พี่ดายน์', 'พี่ฝน'}\n"
   ]
  },
  {
   "cell_type": "code",
   "execution_count": 57,
   "metadata": {},
   "outputs": [],
   "source": [
    "def print_line1(me,emo,friend):\n",
    "     print(f'{me} รู้สึก {emo} กับ{friend}')\n",
    "    "
   ]
  },
  {
   "cell_type": "code",
   "execution_count": 58,
   "metadata": {},
   "outputs": [
    {
     "name": "stdout",
     "output_type": "stream",
     "text": [
      "แคมป์ รู้สึก ง่วง กับพี่เอท\n",
      "แคมป์ รู้สึก ง่วง กับพี่ฝน\n",
      "แคมป์ รู้สึก ง่วง กับพี่แตงโม\n",
      "แคมป์ รู้สึก ง่วง กับพี่เจมส์\n",
      "แคมป์ รู้สึก ง่วง กับพี่บูม\n",
      "แคมป์ รู้สึก ง่วง กับพี่ดายน์\n"
     ]
    }
   ],
   "source": [
    "for i in friend_list:\n",
    "    print_line1('แคมป์','ง่วง',i)"
   ]
  },
  {
   "cell_type": "code",
   "execution_count": 59,
   "metadata": {},
   "outputs": [
    {
     "data": {
      "text/plain": [
       "{'พี่ดายน์', 'พี่บูม', 'พี่ฝน', 'พี่เจมส์', 'พี่เอท', 'พี่แตงโม'}"
      ]
     },
     "execution_count": 59,
     "metadata": {},
     "output_type": "execute_result"
    }
   ],
   "source": [
    "friend_list"
   ]
  },
  {
   "cell_type": "markdown",
   "metadata": {},
   "source": [
    "### loop in loop"
   ]
  },
  {
   "cell_type": "code",
   "execution_count": 78,
   "metadata": {},
   "outputs": [
    {
     "name": "stdout",
     "output_type": "stream",
     "text": [
      "พี่เอท รู้สึก รัก กับพี่เอท\n",
      "พี่เอท รู้สึก รัก กับพี่ฝน\n",
      "พี่เอท รู้สึก รัก กับพี่แตงโม\n",
      "พี่เอท รู้สึก รัก กับพี่เจมส์\n",
      "พี่เอท รู้สึก รัก กับพี่บูม\n",
      "พี่เอท รู้สึก รัก กับพี่ดายน์\n",
      "พี่ฝน รู้สึก รัก กับพี่เอท\n",
      "พี่ฝน รู้สึก รัก กับพี่ฝน\n",
      "พี่ฝน รู้สึก รัก กับพี่แตงโม\n",
      "พี่ฝน รู้สึก รัก กับพี่เจมส์\n",
      "พี่ฝน รู้สึก รัก กับพี่บูม\n",
      "พี่ฝน รู้สึก รัก กับพี่ดายน์\n",
      "พี่แตงโม รู้สึก รัก กับพี่เอท\n",
      "พี่แตงโม รู้สึก รัก กับพี่ฝน\n",
      "พี่แตงโม รู้สึก รัก กับพี่แตงโม\n",
      "พี่แตงโม รู้สึก รัก กับพี่เจมส์\n",
      "พี่แตงโม รู้สึก รัก กับพี่บูม\n",
      "พี่แตงโม รู้สึก รัก กับพี่ดายน์\n",
      "พี่เจมส์ รู้สึก รัก กับพี่เอท\n",
      "พี่เจมส์ รู้สึก รัก กับพี่ฝน\n",
      "พี่เจมส์ รู้สึก รัก กับพี่แตงโม\n",
      "พี่เจมส์ รู้สึก รัก กับพี่เจมส์\n",
      "พี่เจมส์ รู้สึก รัก กับพี่บูม\n",
      "พี่เจมส์ รู้สึก รัก กับพี่ดายน์\n",
      "พี่บูม รู้สึก รัก กับพี่เอท\n",
      "พี่บูม รู้สึก รัก กับพี่ฝน\n",
      "พี่บูม รู้สึก รัก กับพี่แตงโม\n",
      "พี่บูม รู้สึก รัก กับพี่เจมส์\n",
      "พี่บูม รู้สึก รัก กับพี่บูม\n",
      "พี่บูม รู้สึก รัก กับพี่ดายน์\n",
      "พี่ดายน์ รู้สึก รัก กับพี่เอท\n",
      "พี่ดายน์ รู้สึก รัก กับพี่ฝน\n",
      "พี่ดายน์ รู้สึก รัก กับพี่แตงโม\n",
      "พี่ดายน์ รู้สึก รัก กับพี่เจมส์\n",
      "พี่ดายน์ รู้สึก รัก กับพี่บูม\n",
      "พี่ดายน์ รู้สึก รัก กับพี่ดายน์\n"
     ]
    }
   ],
   "source": [
    "for name1 in friend_list:\n",
    "    for name2 in friend_list:\n",
    "        print_line1(name1,'รัก',name2)"
   ]
  },
  {
   "cell_type": "markdown",
   "metadata": {},
   "source": [
    "### loop in function"
   ]
  },
  {
   "cell_type": "code",
   "execution_count": 33,
   "metadata": {},
   "outputs": [],
   "source": [
    "def print_feelings(I,feeling,friends):\n",
    "    for friend in friends:\n",
    "        print(f'{I} {feeling} {friend}')"
   ]
  },
  {
   "cell_type": "code",
   "execution_count": 34,
   "metadata": {},
   "outputs": [],
   "source": [
    "friend_list = {'พี่เอท', 'พี่แตงโม', 'พี่บูม', 'พี่เจมส์', 'พี่ดายน์', 'พี่ฝน'}"
   ]
  },
  {
   "cell_type": "code",
   "execution_count": 49,
   "metadata": {},
   "outputs": [
    {
     "name": "stdout",
     "output_type": "stream",
     "text": [
      "แคมป์ ง่วง พี่เอท\n",
      "แคมป์ ง่วง พี่ฝน\n",
      "แคมป์ ง่วง พี่แตงโม\n",
      "แคมป์ ง่วง พี่เจมส์\n",
      "แคมป์ ง่วง พี่บูม\n",
      "แคมป์ ง่วง พี่ดายน์\n"
     ]
    }
   ],
   "source": [
    "print_feelings('แคมป์','ง่วง', friend_list)"
   ]
  },
  {
   "cell_type": "markdown",
   "metadata": {},
   "source": [
    "### looping in dict"
   ]
  },
  {
   "cell_type": "code",
   "execution_count": 50,
   "metadata": {},
   "outputs": [
    {
     "data": {
      "text/plain": [
       "{'กรวิชญ์': 'A', 'สุภนิตา': 'C', 'ปนัดดา': 'A', 'ทรงกลต': 'F'}"
      ]
     },
     "execution_count": 50,
     "metadata": {},
     "output_type": "execute_result"
    }
   ],
   "source": [
    "name_grade = {'กรวิชญ์':'A','สุภนิตา':'C','ปนัดดา':'A','ทรงกลต':'F'}\n",
    "name_grade"
   ]
  },
  {
   "cell_type": "code",
   "execution_count": 51,
   "metadata": {},
   "outputs": [
    {
     "data": {
      "text/plain": [
       "'A'"
      ]
     },
     "execution_count": 51,
     "metadata": {},
     "output_type": "execute_result"
    }
   ],
   "source": [
    "name_grade['ปนัดดา']"
   ]
  },
  {
   "cell_type": "code",
   "execution_count": 39,
   "metadata": {},
   "outputs": [
    {
     "data": {
      "text/plain": [
       "dict_keys(['กรวิชญ์', 'สุภนิตา', 'ปนัดดา', 'ทรงกลต'])"
      ]
     },
     "execution_count": 39,
     "metadata": {},
     "output_type": "execute_result"
    }
   ],
   "source": [
    "name_grade.keys()"
   ]
  },
  {
   "cell_type": "code",
   "execution_count": 42,
   "metadata": {},
   "outputs": [
    {
     "name": "stdout",
     "output_type": "stream",
     "text": [
      "กรวิชญ์ ได้เกรด A\n",
      "สุภนิตา ได้เกรด C\n",
      "ปนัดดา ได้เกรด A\n",
      "ทรงกลต ได้เกรด F\n"
     ]
    }
   ],
   "source": [
    "for i in name_grade.keys():\n",
    "    print(f'{i} ได้เกรด {name_grade[i]}')"
   ]
  },
  {
   "cell_type": "markdown",
   "metadata": {},
   "source": [
    "# conditional\n",
    "# == ,!= , >= ,<= , < , >"
   ]
  },
  {
   "cell_type": "markdown",
   "metadata": {},
   "source": [
    "```python\n",
    "if condition1:\n",
    "    do something\n",
    "elif condition2:\n",
    "    do another thing\n",
    "else:\n",
    "    do ...\n",
    "```"
   ]
  },
  {
   "cell_type": "code",
   "execution_count": 80,
   "metadata": {},
   "outputs": [
    {
     "name": "stdout",
     "output_type": "stream",
     "text": [
      "พี่เอท รู้สึก รัก กับพี่ฝน\n",
      "พี่เอท รู้สึก รัก กับพี่แตงโม\n",
      "พี่เอท รู้สึก รัก กับพี่เจมส์\n",
      "พี่เอท รู้สึก รัก กับพี่บูม\n",
      "พี่เอท รู้สึก รัก กับพี่ดายน์\n",
      "พี่ฝน รู้สึก รัก กับพี่เอท\n",
      "พี่ฝน รู้สึก รัก กับพี่แตงโม\n",
      "พี่ฝน รู้สึก รัก กับพี่เจมส์\n",
      "พี่ฝน รู้สึก รัก กับพี่บูม\n",
      "พี่ฝน รู้สึก รัก กับพี่ดายน์\n",
      "พี่แตงโม รู้สึก รัก กับพี่เอท\n",
      "พี่แตงโม รู้สึก รัก กับพี่ฝน\n",
      "พี่แตงโม รู้สึก รัก กับพี่เจมส์\n",
      "พี่แตงโม รู้สึก รัก กับพี่บูม\n",
      "พี่แตงโม รู้สึก รัก กับพี่ดายน์\n",
      "พี่เจมส์ รู้สึก รัก กับพี่เอท\n",
      "พี่เจมส์ รู้สึก รัก กับพี่ฝน\n",
      "พี่เจมส์ รู้สึก รัก กับพี่แตงโม\n",
      "พี่เจมส์ รู้สึก รัก กับพี่บูม\n",
      "พี่เจมส์ รู้สึก รัก กับพี่ดายน์\n",
      "พี่บูม รู้สึก รัก กับพี่เอท\n",
      "พี่บูม รู้สึก รัก กับพี่ฝน\n",
      "พี่บูม รู้สึก รัก กับพี่แตงโม\n",
      "พี่บูม รู้สึก รัก กับพี่เจมส์\n",
      "พี่บูม รู้สึก รัก กับพี่ดายน์\n",
      "พี่ดายน์ รู้สึก รัก กับพี่เอท\n",
      "พี่ดายน์ รู้สึก รัก กับพี่ฝน\n",
      "พี่ดายน์ รู้สึก รัก กับพี่แตงโม\n",
      "พี่ดายน์ รู้สึก รัก กับพี่เจมส์\n",
      "พี่ดายน์ รู้สึก รัก กับพี่บูม\n"
     ]
    }
   ],
   "source": [
    "for name1 in friend_list:\n",
    "    for name2 in friend_list:\n",
    "        if name1 != name2:\n",
    "            print_line1(name1,'รัก',name2)"
   ]
  },
  {
   "cell_type": "code",
   "execution_count": 82,
   "metadata": {},
   "outputs": [
    {
     "name": "stdout",
     "output_type": "stream",
     "text": [
      "Yes\n"
     ]
    }
   ],
   "source": [
    "if True:\n",
    "    print('Yes')"
   ]
  },
  {
   "cell_type": "code",
   "execution_count": 83,
   "metadata": {},
   "outputs": [],
   "source": [
    "if False:\n",
    "    print('No')"
   ]
  },
  {
   "cell_type": "code",
   "execution_count": 84,
   "metadata": {},
   "outputs": [
    {
     "name": "stdout",
     "output_type": "stream",
     "text": [
      "NO\n"
     ]
    }
   ],
   "source": [
    "if False:\n",
    "    print('Yes')\n",
    "else:\n",
    "    print('NO')"
   ]
  },
  {
   "cell_type": "code",
   "execution_count": 86,
   "metadata": {},
   "outputs": [
    {
     "data": {
      "text/plain": [
       "True"
      ]
     },
     "execution_count": 86,
     "metadata": {},
     "output_type": "execute_result"
    }
   ],
   "source": [
    "1 == 1"
   ]
  },
  {
   "cell_type": "code",
   "execution_count": 87,
   "metadata": {},
   "outputs": [
    {
     "name": "stdout",
     "output_type": "stream",
     "text": [
      "1=1\n"
     ]
    }
   ],
   "source": [
    "if 1 == 1:\n",
    "    print('1=1')"
   ]
  },
  {
   "cell_type": "markdown",
   "metadata": {},
   "source": [
    "# Hw\n",
    "เขียน function ตัดเกรด โดยที่ input เป็น คะแนน(0-100) output เป็นเกรด(F-A)\n",
    "\n",
    "input = [1, 50 , 65 , 90 , 101,  -5, 49 ]"
   ]
  },
  {
   "cell_type": "code",
   "execution_count": null,
   "metadata": {},
   "outputs": [],
   "source": []
  }
 ],
 "metadata": {
  "kernelspec": {
   "display_name": "Python 3",
   "language": "python",
   "name": "python3"
  },
  "language_info": {
   "codemirror_mode": {
    "name": "ipython",
    "version": 3
   },
   "file_extension": ".py",
   "mimetype": "text/x-python",
   "name": "python",
   "nbconvert_exporter": "python",
   "pygments_lexer": "ipython3",
   "version": "3.7.4"
  }
 },
 "nbformat": 4,
 "nbformat_minor": 2
}
